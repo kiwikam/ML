{
  "cells": [
    {
      "cell_type": "markdown",
      "metadata": {
        "colab_type": "text",
        "id": "view-in-github"
      },
      "source": [
        "<a href=\"https://colab.research.google.com/github/Letch49/ML_vvsu_2024/blob/master/lab2/%D0%97%D0%B0%D0%B4%D0%B0%D0%BD%D0%B8%D0%B5_2.ipynb\" target=\"_parent\"><img src=\"https://colab.research.google.com/assets/colab-badge.svg\" alt=\"Open In Colab\"/></a>"
      ]
    },
    {
      "cell_type": "markdown",
      "metadata": {
        "id": "_dGfjiUjUNab"
      },
      "source": [
        "#Задание по практике 2"
      ]
    },
    {
      "cell_type": "code",
      "execution_count": 105,
      "metadata": {
        "id": "wXXP-hXKrxPW"
      },
      "outputs": [],
      "source": [
        "#!pip install pandas\n",
        "#!pip install seaborn"
      ]
    },
    {
      "cell_type": "code",
      "execution_count": 106,
      "metadata": {
        "id": "7u0VPzz-UKNu"
      },
      "outputs": [],
      "source": [
        "import pandas as pd\n",
        "import seaborn as sns\n",
        "import matplotlib.pyplot as plt\n",
        "import math\n",
        "\n",
        "from sklearn.cluster import DBSCAN"
      ]
    },
    {
      "cell_type": "markdown",
      "metadata": {
        "id": "yKPA-E-VVSS-"
      },
      "source": [
        "##Введение в описательную статистику"
      ]
    },
    {
      "cell_type": "markdown",
      "metadata": {
        "id": "Rrr4WPcGUwOx"
      },
      "source": [
        "1. Выберите категориальную целевую переменную (**Y**)\n",
        "\n",
        "2. Выберите переменную для анализа относительно категории (**X**)\n",
        "\n",
        "3. Выведитие обобщенную статистическую информацию переменной (**X**)\n",
        "\n",
        "2. Вычислите среднее, медиану, моду, минимум, максимум, стандартное отклонение относительно целевой пременной из файла Classification datasets в соответствии с вашим вариантом\n",
        "\n",
        "3. Сделайте вывод относительно полученных результатов\n",
        "\n",
        "p.s если у вас нет категориальных признаков - преобразуйте любой числовой в категориальный (https://pandas.pydata.org/docs/reference/api/pandas.cut.html). Важно **не** использовать преобразованный Y вместе с этим же X (то есть, если вы преобразовали возраст в категорию, то вы не моежет использовать возраст в качестве X и возраст категорию в качестве Y)"
      ]
    },
    {
      "cell_type": "code",
      "execution_count": 107,
      "metadata": {
        "id": "wZiCpTwgUuYw"
      },
      "outputs": [
        {
          "data": {
            "text/html": [
              "<div>\n",
              "<style scoped>\n",
              "    .dataframe tbody tr th:only-of-type {\n",
              "        vertical-align: middle;\n",
              "    }\n",
              "\n",
              "    .dataframe tbody tr th {\n",
              "        vertical-align: top;\n",
              "    }\n",
              "\n",
              "    .dataframe thead th {\n",
              "        text-align: right;\n",
              "    }\n",
              "</style>\n",
              "<table border=\"1\" class=\"dataframe\">\n",
              "  <thead>\n",
              "    <tr style=\"text-align: right;\">\n",
              "      <th></th>\n",
              "      <th>Age</th>\n",
              "      <th>Sex</th>\n",
              "      <th>ChestPainType</th>\n",
              "      <th>RestingBP</th>\n",
              "      <th>Cholesterol</th>\n",
              "      <th>FastingBS</th>\n",
              "      <th>RestingECG</th>\n",
              "      <th>MaxHR</th>\n",
              "      <th>ExerciseAngina</th>\n",
              "      <th>Oldpeak</th>\n",
              "      <th>ST_Slope</th>\n",
              "      <th>HeartDisease</th>\n",
              "    </tr>\n",
              "  </thead>\n",
              "  <tbody>\n",
              "    <tr>\n",
              "      <th>0</th>\n",
              "      <td>40</td>\n",
              "      <td>M</td>\n",
              "      <td>ATA</td>\n",
              "      <td>140</td>\n",
              "      <td>289</td>\n",
              "      <td>0</td>\n",
              "      <td>Normal</td>\n",
              "      <td>172</td>\n",
              "      <td>N</td>\n",
              "      <td>0.0</td>\n",
              "      <td>Up</td>\n",
              "      <td>0</td>\n",
              "    </tr>\n",
              "    <tr>\n",
              "      <th>1</th>\n",
              "      <td>49</td>\n",
              "      <td>F</td>\n",
              "      <td>NAP</td>\n",
              "      <td>160</td>\n",
              "      <td>180</td>\n",
              "      <td>0</td>\n",
              "      <td>Normal</td>\n",
              "      <td>156</td>\n",
              "      <td>N</td>\n",
              "      <td>1.0</td>\n",
              "      <td>Flat</td>\n",
              "      <td>1</td>\n",
              "    </tr>\n",
              "    <tr>\n",
              "      <th>2</th>\n",
              "      <td>37</td>\n",
              "      <td>M</td>\n",
              "      <td>ATA</td>\n",
              "      <td>130</td>\n",
              "      <td>283</td>\n",
              "      <td>0</td>\n",
              "      <td>ST</td>\n",
              "      <td>98</td>\n",
              "      <td>N</td>\n",
              "      <td>0.0</td>\n",
              "      <td>Up</td>\n",
              "      <td>0</td>\n",
              "    </tr>\n",
              "    <tr>\n",
              "      <th>3</th>\n",
              "      <td>48</td>\n",
              "      <td>F</td>\n",
              "      <td>ASY</td>\n",
              "      <td>138</td>\n",
              "      <td>214</td>\n",
              "      <td>0</td>\n",
              "      <td>Normal</td>\n",
              "      <td>108</td>\n",
              "      <td>Y</td>\n",
              "      <td>1.5</td>\n",
              "      <td>Flat</td>\n",
              "      <td>1</td>\n",
              "    </tr>\n",
              "    <tr>\n",
              "      <th>4</th>\n",
              "      <td>54</td>\n",
              "      <td>M</td>\n",
              "      <td>NAP</td>\n",
              "      <td>150</td>\n",
              "      <td>195</td>\n",
              "      <td>0</td>\n",
              "      <td>Normal</td>\n",
              "      <td>122</td>\n",
              "      <td>N</td>\n",
              "      <td>0.0</td>\n",
              "      <td>Up</td>\n",
              "      <td>0</td>\n",
              "    </tr>\n",
              "    <tr>\n",
              "      <th>...</th>\n",
              "      <td>...</td>\n",
              "      <td>...</td>\n",
              "      <td>...</td>\n",
              "      <td>...</td>\n",
              "      <td>...</td>\n",
              "      <td>...</td>\n",
              "      <td>...</td>\n",
              "      <td>...</td>\n",
              "      <td>...</td>\n",
              "      <td>...</td>\n",
              "      <td>...</td>\n",
              "      <td>...</td>\n",
              "    </tr>\n",
              "    <tr>\n",
              "      <th>913</th>\n",
              "      <td>45</td>\n",
              "      <td>M</td>\n",
              "      <td>TA</td>\n",
              "      <td>110</td>\n",
              "      <td>264</td>\n",
              "      <td>0</td>\n",
              "      <td>Normal</td>\n",
              "      <td>132</td>\n",
              "      <td>N</td>\n",
              "      <td>1.2</td>\n",
              "      <td>Flat</td>\n",
              "      <td>1</td>\n",
              "    </tr>\n",
              "    <tr>\n",
              "      <th>914</th>\n",
              "      <td>68</td>\n",
              "      <td>M</td>\n",
              "      <td>ASY</td>\n",
              "      <td>144</td>\n",
              "      <td>193</td>\n",
              "      <td>1</td>\n",
              "      <td>Normal</td>\n",
              "      <td>141</td>\n",
              "      <td>N</td>\n",
              "      <td>3.4</td>\n",
              "      <td>Flat</td>\n",
              "      <td>1</td>\n",
              "    </tr>\n",
              "    <tr>\n",
              "      <th>915</th>\n",
              "      <td>57</td>\n",
              "      <td>M</td>\n",
              "      <td>ASY</td>\n",
              "      <td>130</td>\n",
              "      <td>131</td>\n",
              "      <td>0</td>\n",
              "      <td>Normal</td>\n",
              "      <td>115</td>\n",
              "      <td>Y</td>\n",
              "      <td>1.2</td>\n",
              "      <td>Flat</td>\n",
              "      <td>1</td>\n",
              "    </tr>\n",
              "    <tr>\n",
              "      <th>916</th>\n",
              "      <td>57</td>\n",
              "      <td>F</td>\n",
              "      <td>ATA</td>\n",
              "      <td>130</td>\n",
              "      <td>236</td>\n",
              "      <td>0</td>\n",
              "      <td>LVH</td>\n",
              "      <td>174</td>\n",
              "      <td>N</td>\n",
              "      <td>0.0</td>\n",
              "      <td>Flat</td>\n",
              "      <td>1</td>\n",
              "    </tr>\n",
              "    <tr>\n",
              "      <th>917</th>\n",
              "      <td>38</td>\n",
              "      <td>M</td>\n",
              "      <td>NAP</td>\n",
              "      <td>138</td>\n",
              "      <td>175</td>\n",
              "      <td>0</td>\n",
              "      <td>Normal</td>\n",
              "      <td>173</td>\n",
              "      <td>N</td>\n",
              "      <td>0.0</td>\n",
              "      <td>Up</td>\n",
              "      <td>0</td>\n",
              "    </tr>\n",
              "  </tbody>\n",
              "</table>\n",
              "<p>918 rows × 12 columns</p>\n",
              "</div>"
            ],
            "text/plain": [
              "     Age Sex ChestPainType  RestingBP  Cholesterol  FastingBS RestingECG  \\\n",
              "0     40   M           ATA        140          289          0     Normal   \n",
              "1     49   F           NAP        160          180          0     Normal   \n",
              "2     37   M           ATA        130          283          0         ST   \n",
              "3     48   F           ASY        138          214          0     Normal   \n",
              "4     54   M           NAP        150          195          0     Normal   \n",
              "..   ...  ..           ...        ...          ...        ...        ...   \n",
              "913   45   M            TA        110          264          0     Normal   \n",
              "914   68   M           ASY        144          193          1     Normal   \n",
              "915   57   M           ASY        130          131          0     Normal   \n",
              "916   57   F           ATA        130          236          0        LVH   \n",
              "917   38   M           NAP        138          175          0     Normal   \n",
              "\n",
              "     MaxHR ExerciseAngina  Oldpeak ST_Slope  HeartDisease  \n",
              "0      172              N      0.0       Up             0  \n",
              "1      156              N      1.0     Flat             1  \n",
              "2       98              N      0.0       Up             0  \n",
              "3      108              Y      1.5     Flat             1  \n",
              "4      122              N      0.0       Up             0  \n",
              "..     ...            ...      ...      ...           ...  \n",
              "913    132              N      1.2     Flat             1  \n",
              "914    141              N      3.4     Flat             1  \n",
              "915    115              Y      1.2     Flat             1  \n",
              "916    174              N      0.0     Flat             1  \n",
              "917    173              N      0.0       Up             0  \n",
              "\n",
              "[918 rows x 12 columns]"
            ]
          },
          "execution_count": 107,
          "metadata": {},
          "output_type": "execute_result"
        }
      ],
      "source": [
        "# чтение файла\n",
        "df = pd.read_csv('heart.csv')\n",
        "df"
      ]
    },
    {
      "cell_type": "code",
      "execution_count": 108,
      "metadata": {
        "id": "u3OeTGcGp2sY"
      },
      "outputs": [
        {
          "data": {
            "text/html": [
              "<div>\n",
              "<style scoped>\n",
              "    .dataframe tbody tr th:only-of-type {\n",
              "        vertical-align: middle;\n",
              "    }\n",
              "\n",
              "    .dataframe tbody tr th {\n",
              "        vertical-align: top;\n",
              "    }\n",
              "\n",
              "    .dataframe thead th {\n",
              "        text-align: right;\n",
              "    }\n",
              "</style>\n",
              "<table border=\"1\" class=\"dataframe\">\n",
              "  <thead>\n",
              "    <tr style=\"text-align: right;\">\n",
              "      <th></th>\n",
              "      <th>count</th>\n",
              "      <th>mean</th>\n",
              "      <th>std</th>\n",
              "      <th>min</th>\n",
              "      <th>25%</th>\n",
              "      <th>50%</th>\n",
              "      <th>75%</th>\n",
              "      <th>max</th>\n",
              "    </tr>\n",
              "    <tr>\n",
              "      <th>Sex</th>\n",
              "      <th></th>\n",
              "      <th></th>\n",
              "      <th></th>\n",
              "      <th></th>\n",
              "      <th></th>\n",
              "      <th></th>\n",
              "      <th></th>\n",
              "      <th></th>\n",
              "    </tr>\n",
              "  </thead>\n",
              "  <tbody>\n",
              "    <tr>\n",
              "      <th>F</th>\n",
              "      <td>193.0</td>\n",
              "      <td>132.212435</td>\n",
              "      <td>19.392638</td>\n",
              "      <td>94.0</td>\n",
              "      <td>120.0</td>\n",
              "      <td>130.0</td>\n",
              "      <td>140.0</td>\n",
              "      <td>200.0</td>\n",
              "    </tr>\n",
              "    <tr>\n",
              "      <th>M</th>\n",
              "      <td>725.0</td>\n",
              "      <td>132.445517</td>\n",
              "      <td>18.286739</td>\n",
              "      <td>0.0</td>\n",
              "      <td>120.0</td>\n",
              "      <td>130.0</td>\n",
              "      <td>140.0</td>\n",
              "      <td>200.0</td>\n",
              "    </tr>\n",
              "  </tbody>\n",
              "</table>\n",
              "</div>"
            ],
            "text/plain": [
              "     count        mean        std   min    25%    50%    75%    max\n",
              "Sex                                                                \n",
              "F    193.0  132.212435  19.392638  94.0  120.0  130.0  140.0  200.0\n",
              "M    725.0  132.445517  18.286739   0.0  120.0  130.0  140.0  200.0"
            ]
          },
          "execution_count": 108,
          "metadata": {},
          "output_type": "execute_result"
        }
      ],
      "source": [
        "# ваш код здесь\n",
        "sex = df.groupby(['Sex'])\n",
        "describe = sex['RestingBP'].describe()\n",
        "describe"
      ]
    },
    {
      "cell_type": "markdown",
      "metadata": {},
      "source": [
        "P.S. Так как для мужчин минимальный пульс считается равным нулю, то нужно исключить строки со значениями NaN а так же \"0\", так же одинаковый максимальный пульс. Предположительно это выброс."
      ]
    },
    {
      "cell_type": "code",
      "execution_count": 109,
      "metadata": {},
      "outputs": [
        {
          "data": {
            "text/html": [
              "<div>\n",
              "<style scoped>\n",
              "    .dataframe tbody tr th:only-of-type {\n",
              "        vertical-align: middle;\n",
              "    }\n",
              "\n",
              "    .dataframe tbody tr th {\n",
              "        vertical-align: top;\n",
              "    }\n",
              "\n",
              "    .dataframe thead th {\n",
              "        text-align: right;\n",
              "    }\n",
              "</style>\n",
              "<table border=\"1\" class=\"dataframe\">\n",
              "  <thead>\n",
              "    <tr style=\"text-align: right;\">\n",
              "      <th></th>\n",
              "      <th>count</th>\n",
              "      <th>mean</th>\n",
              "      <th>std</th>\n",
              "      <th>min</th>\n",
              "      <th>25%</th>\n",
              "      <th>50%</th>\n",
              "      <th>75%</th>\n",
              "      <th>max</th>\n",
              "    </tr>\n",
              "    <tr>\n",
              "      <th>Sex</th>\n",
              "      <th></th>\n",
              "      <th></th>\n",
              "      <th></th>\n",
              "      <th></th>\n",
              "      <th></th>\n",
              "      <th></th>\n",
              "      <th></th>\n",
              "      <th></th>\n",
              "    </tr>\n",
              "  </thead>\n",
              "  <tbody>\n",
              "    <tr>\n",
              "      <th>F</th>\n",
              "      <td>191.0</td>\n",
              "      <td>131.502618</td>\n",
              "      <td>18.197708</td>\n",
              "      <td>94.0</td>\n",
              "      <td>120.0</td>\n",
              "      <td>130.0</td>\n",
              "      <td>140.0</td>\n",
              "      <td>180.0</td>\n",
              "    </tr>\n",
              "    <tr>\n",
              "      <th>M</th>\n",
              "      <td>722.0</td>\n",
              "      <td>132.441828</td>\n",
              "      <td>17.286043</td>\n",
              "      <td>80.0</td>\n",
              "      <td>120.0</td>\n",
              "      <td>130.0</td>\n",
              "      <td>140.0</td>\n",
              "      <td>192.0</td>\n",
              "    </tr>\n",
              "  </tbody>\n",
              "</table>\n",
              "</div>"
            ],
            "text/plain": [
              "     count        mean        std   min    25%    50%    75%    max\n",
              "Sex                                                                \n",
              "F    191.0  131.502618  18.197708  94.0  120.0  130.0  140.0  180.0\n",
              "M    722.0  132.441828  17.286043  80.0  120.0  130.0  140.0  192.0"
            ]
          },
          "execution_count": 109,
          "metadata": {},
          "output_type": "execute_result"
        }
      ],
      "source": [
        "des_sex = df.dropna()\n",
        "\n",
        "des_sex = des_sex[(des_sex.RestingBP > 1) & (des_sex.RestingBP < 200)]\n",
        "des_sex = des_sex.reset_index(drop=True)\n",
        "\n",
        "des_sex2 = des_sex.groupby(['Sex'])\n",
        "describe2 = des_sex2['RestingBP'].describe()\n",
        "\n",
        "describe2"
      ]
    },
    {
      "cell_type": "markdown",
      "metadata": {},
      "source": [
        "P.S. После исключения выброса, значения стали более корректными"
      ]
    },
    {
      "cell_type": "code",
      "execution_count": 110,
      "metadata": {
        "id": "ud5DMETOU8hS"
      },
      "outputs": [
        {
          "data": {
            "text/plain": [
              "132.24534501642935"
            ]
          },
          "execution_count": 110,
          "metadata": {},
          "output_type": "execute_result"
        }
      ],
      "source": [
        "# (среднее) ваш код здесь\n",
        "mean = des_sex['RestingBP'].mean()\n",
        "mean"
      ]
    },
    {
      "cell_type": "code",
      "execution_count": 111,
      "metadata": {
        "id": "TVB8P3FDVwxM"
      },
      "outputs": [
        {
          "data": {
            "text/plain": [
              "130.0"
            ]
          },
          "execution_count": 111,
          "metadata": {},
          "output_type": "execute_result"
        }
      ],
      "source": [
        "# (медиана) ваш код здесь\n",
        "median = des_sex['RestingBP'].median()\n",
        "median"
      ]
    },
    {
      "cell_type": "code",
      "execution_count": 112,
      "metadata": {
        "id": "0xHCgiXCVyhs"
      },
      "outputs": [
        {
          "data": {
            "text/plain": [
              "0    120\n",
              "Name: RestingBP, dtype: int64"
            ]
          },
          "execution_count": 112,
          "metadata": {},
          "output_type": "execute_result"
        }
      ],
      "source": [
        "# (мода) ваш код здесь\n",
        "mode = df['RestingBP'].mode()\n",
        "mode"
      ]
    },
    {
      "cell_type": "code",
      "execution_count": 113,
      "metadata": {
        "id": "HprClRfXVzxW"
      },
      "outputs": [
        {
          "data": {
            "text/plain": [
              "80"
            ]
          },
          "execution_count": 113,
          "metadata": {},
          "output_type": "execute_result"
        }
      ],
      "source": [
        "# (минимум) ваш код здесь\n",
        "min = des_sex['RestingBP'].min()\n",
        "min"
      ]
    },
    {
      "cell_type": "code",
      "execution_count": 114,
      "metadata": {
        "id": "sA2gR7IAV1k3"
      },
      "outputs": [
        {
          "data": {
            "text/plain": [
              "192"
            ]
          },
          "execution_count": 114,
          "metadata": {},
          "output_type": "execute_result"
        }
      ],
      "source": [
        "# (максимум) ваш код здесь\n",
        "max = des_sex['RestingBP'].max()\n",
        "max"
      ]
    },
    {
      "cell_type": "code",
      "execution_count": 115,
      "metadata": {
        "id": "BWeXHW3Vovz4"
      },
      "outputs": [
        {
          "data": {
            "text/plain": [
              "17.474701096643038"
            ]
          },
          "execution_count": 115,
          "metadata": {},
          "output_type": "execute_result"
        }
      ],
      "source": [
        "# (стандартное отклонение) Ваш код здесь\n",
        "std = des_sex['RestingBP'].std()\n",
        "std"
      ]
    },
    {
      "cell_type": "markdown",
      "metadata": {
        "id": "dZEVd9QIVMyV"
      },
      "source": [
        "Вычислите следующие квантили: 25%, 50% (медиана), 75% для числового признака вашего датасета. Затем найдите интерквартильный размах."
      ]
    },
    {
      "cell_type": "code",
      "execution_count": 116,
      "metadata": {
        "id": "2UMcBq9dVbVE"
      },
      "outputs": [
        {
          "data": {
            "text/plain": [
              "120.0"
            ]
          },
          "execution_count": 116,
          "metadata": {},
          "output_type": "execute_result"
        }
      ],
      "source": [
        "# (25% квантиль) ваш код здесь\n",
        "q1 = des_sex['RestingBP'].quantile(.25)\n",
        "q1"
      ]
    },
    {
      "cell_type": "code",
      "execution_count": 117,
      "metadata": {
        "id": "8joJvKduWJsC"
      },
      "outputs": [
        {
          "data": {
            "text/plain": [
              "130.0"
            ]
          },
          "execution_count": 117,
          "metadata": {},
          "output_type": "execute_result"
        }
      ],
      "source": [
        "# (50% квантиль) ваш код здесь\n",
        "q2 = des_sex['RestingBP'].quantile(.5)\n",
        "q2"
      ]
    },
    {
      "cell_type": "code",
      "execution_count": 118,
      "metadata": {
        "id": "pQTQqM3GWLOV"
      },
      "outputs": [
        {
          "data": {
            "text/plain": [
              "140.0"
            ]
          },
          "execution_count": 118,
          "metadata": {},
          "output_type": "execute_result"
        }
      ],
      "source": [
        "# (75% квантиль) ваш код здесь\n",
        "q3 = des_sex['RestingBP'].quantile(.75)\n",
        "q3"
      ]
    },
    {
      "cell_type": "code",
      "execution_count": 119,
      "metadata": {
        "id": "lAwZHIbfWMmH"
      },
      "outputs": [
        {
          "data": {
            "text/plain": [
              "20.0"
            ]
          },
          "execution_count": 119,
          "metadata": {},
          "output_type": "execute_result"
        }
      ],
      "source": [
        "# (интерквартильный размах) ваш код здесь\n",
        "iqr = q3 - q1\n",
        "iqr"
      ]
    },
    {
      "cell_type": "markdown",
      "metadata": {
        "id": "vm0-5sY4WX2I"
      },
      "source": [
        "Какие выводы можно сделать исходя из полученных статистических данных?"
      ]
    },
    {
      "cell_type": "markdown",
      "metadata": {
        "id": "OnO1hVGyWe8D"
      },
      "source": [
        "**Ответ здесь**\n",
        "\n",
        "Для контекста нужно сказать, что это данные по прогнозированию инсульта, который является одной их главных причин смерти.\n",
        "\n",
        "Исходя из данных, можно сделать следующие выводы:\n",
        "    1. Число обследованных мужчин больше, чем женщин, что может говорить о повышеному риску сердечно-сосудистых заболеваний среди мужчин;\n",
        "    2. Средняя частота сердечного ритма у женщин ниже, чем у мужчин однако, у мужчин диапазон минимального и максимального пульса больше.\n",
        "    3. Стандартное отклонение сильно различается от средних значений, что говорит о большом разбросе частосы сердчных сокращений как у денщин, так и у мужчин."
      ]
    },
    {
      "cell_type": "markdown",
      "metadata": {
        "id": "zDISZbQVWk6m"
      },
      "source": [
        "##Основы визуализации"
      ]
    },
    {
      "cell_type": "markdown",
      "metadata": {
        "id": "aU8cakZvZBuj"
      },
      "source": [
        " Постройте гистограмму переменной (X) относительно категориального признака (Y) из своего датасета."
      ]
    },
    {
      "cell_type": "code",
      "execution_count": 120,
      "metadata": {
        "id": "9-KTIzdfZLmP"
      },
      "outputs": [
        {
          "data": {
            "text/plain": [
              "Text(0, 0.5, 'Частота')"
            ]
          },
          "execution_count": 120,
          "metadata": {},
          "output_type": "execute_result"
        },
        {
          "data": {
            "image/png": "[encoded data removed]",
            "text/plain": [
              "<Figure size 1000x300 with 1 Axes>"
            ]
          },
          "metadata": {},
          "output_type": "display_data"
        }
      ],
      "source": [
        "plt.figure(figsize=(10, 3))\n",
        "plt.hist(des_sex['Age'], bins=25, edgecolor='black')\n",
        "plt.xlabel('Age')\n",
        "plt.ylabel('Частота')"
      ]
    },
    {
      "cell_type": "markdown",
      "metadata": {},
      "source": [
        "Обследования проходят в основном люди в возрасте от 45 до 65 лет"
      ]
    },
    {
      "cell_type": "markdown",
      "metadata": {
        "id": "zPsEO4m1ZWDy"
      },
      "source": [
        "Постройте boxplot любого признака из своего датасета.\n",
        "\n",
        "1) boxplot числовой переменной;\n",
        "\n",
        "2) boxplot числовой переменной относительно категориальный переменной;\n",
        "\n",
        "*p.s. Если у вас только один числовой признак, преобразуйте категориальный при помощи LabelEncoder (https://scikit-learn.org/stable/modules/generated/sklearn.preprocessing.LabelEncoder.html)*"
      ]
    },
    {
      "cell_type": "code",
      "execution_count": 121,
      "metadata": {
        "id": "ccJLh1r-Zdne"
      },
      "outputs": [
        {
          "data": {
            "text/plain": [
              "Text(0.5, 0, 'Age')"
            ]
          },
          "execution_count": 121,
          "metadata": {},
          "output_type": "execute_result"
        },
        {
          "data": {
            "image/png": "[encoded data removed]",
            "text/plain": [
              "<Figure size 400x300 with 1 Axes>"
            ]
          },
          "metadata": {},
          "output_type": "display_data"
        }
      ],
      "source": [
        "plt.figure(figsize=(4, 3))\n",
        "plt.boxplot(des_sex['Age'])\n",
        "plt.xlabel('Age')"
      ]
    },
    {
      "cell_type": "code",
      "execution_count": 122,
      "metadata": {
        "id": "9ZRV3jjlq9NN"
      },
      "outputs": [
        {
          "data": {
            "text/plain": [
              "<Axes: xlabel='Sex', ylabel='RestingBP'>"
            ]
          },
          "execution_count": 122,
          "metadata": {},
          "output_type": "execute_result"
        },
        {
          "data": {
            "image/png": "[encoded data removed]",
            "text/plain": [
              "<Figure size 640x480 with 1 Axes>"
            ]
          },
          "metadata": {},
          "output_type": "display_data"
        }
      ],
      "source": [
        "#df2['Age'] = pd.factorize(df2['Age'])[ 0 ]\n",
        "\n",
        "#df2 = des_sex[['Age', 'RestingBP']]\n",
        "\n",
        "#plt.figure(figsize=(4, 3))\n",
        "#plt.boxplot(des_sex['RestingBP'])\n",
        "#plt.show()\n",
        "\n",
        "sns.boxplot(x=des_sex['Sex'], y=des_sex['RestingBP'])\n",
        "#des_sex"
      ]
    },
    {
      "cell_type": "markdown",
      "metadata": {},
      "source": [
        "Несмотря на найденный ранее выброс, на графике видно аномалии. Однако сложно сказать, что это анималия, так как у каждого человека разная особенность организма и пульс может быть высоким, либо низким, во время обследования"
      ]
    },
    {
      "cell_type": "markdown",
      "metadata": {
        "id": "mj8cdITDZh53"
      },
      "source": [
        "Постройте диаграмму рассеивания для числовых признаков вашего датасета.\n",
        "\n",
        "*p.s. Если у вас только один числовой признак, преобразуйте категориальный при помощи LabelEncoder (https://scikit-learn.org/stable/modules/generated/sklearn.preprocessing.LabelEncoder.html)*"
      ]
    },
    {
      "cell_type": "code",
      "execution_count": 123,
      "metadata": {
        "id": "V2-ZoNUcZ_2l"
      },
      "outputs": [
        {
          "data": {
            "image/png": "[encoded data removed]",
            "text/plain": [
              "<Figure size 1000x800 with 1 Axes>"
            ]
          },
          "metadata": {},
          "output_type": "display_data"
        }
      ],
      "source": [
        "colors = ['yellow', 'purple']\n",
        "\n",
        "plt.figure(figsize=(10, 8))\n",
        "sns.scatterplot(x='RestingBP', y='Age', data=des_sex, color='red')\n",
        "plt.title('Диаграмма рассеивания для возраста и пульса в покое')\n",
        "plt.xlabel('Пульс в покое')\n",
        "plt.ylabel('Возраст')\n",
        "plt.show()\n",
        "#df2"
      ]
    },
    {
      "cell_type": "markdown",
      "metadata": {},
      "source": [
        "Применяется диаграмма рассеивания пульса к возрасту, так как по отношению к полу, будет очень похожа на boxplot"
      ]
    },
    {
      "cell_type": "markdown",
      "metadata": {
        "id": "S-jG4a5SaFXS"
      },
      "source": [
        "Постройте матрицу корреляции для двух числовых признаков вашего датасета."
      ]
    },
    {
      "cell_type": "code",
      "execution_count": 124,
      "metadata": {
        "id": "u_lOnPtjnfbq"
      },
      "outputs": [
        {
          "data": {
            "text/plain": [
              "<Axes: >"
            ]
          },
          "execution_count": 124,
          "metadata": {},
          "output_type": "execute_result"
        },
        {
          "data": {
            "image/png": "[encoded data removed]",
            "text/plain": [
              "<Figure size 800x600 with 2 Axes>"
            ]
          },
          "metadata": {},
          "output_type": "display_data"
        }
      ],
      "source": [
        "import numpy as np\n",
        "\n",
        "des_sex = des_sex.select_dtypes(include=np.number)\n",
        "\n",
        "plt.figure(figsize=(8, 6))\n",
        "sns.heatmap(des_sex.corr(), annot=True)"
      ]
    },
    {
      "cell_type": "markdown",
      "metadata": {
        "id": "2MVHWXICaoJ4"
      },
      "source": [
        "Какие выводы можно сделать на основе графиков и матрицы корреляции?"
      ]
    },
    {
      "cell_type": "markdown",
      "metadata": {
        "id": "HFAFaiNzatLN"
      },
      "source": [
        "**Ответ здесь**\n",
        "\n",
        "Изучив матрицу корреляции видно, что связь между значениями очень слабая (ниже 0.5). Однако посмотрев приведенные данные, можно сказать, что относительно них, сильнуя связь имеют отношения HeartDisease-Oldpeak и Cholesterol-Oldpeak. Наиболее слабую связь имеют MaxHR-HeartDisease. Но это среди приведенных значений."
      ]
    },
    {
      "cell_type": "markdown",
      "metadata": {
        "id": "K5HCSPTPbwfJ"
      },
      "source": [
        "##Задание для гениев*"
      ]
    },
    {
      "cell_type": "markdown",
      "metadata": {
        "id": "pil5bgt5b98A"
      },
      "source": [
        "Реализовать следующие методы поиска выбросов:\n",
        "1. На основе среднего и отклонения\n",
        "2. Критерий Шовене\n",
        "3. С помощью квартилей\n",
        "4. Поиск выбросов по двум переменным\n",
        "\n",
        "[Посмотреть](http://course.omgtu.ru/wp-content/uploads/2021/04/3_%D0%92%D1%8B%D0%B1%D1%80%D0%BE%D1%81%D1%8B.pdf)\n",
        "\n",
        "P.S. в качестве возвразаемого значения методов может быть:\n",
        "1. очищенный датафрейм\n",
        "2. индексы выбросов ```df.series.index```"
      ]
    },
    {
      "cell_type": "code",
      "execution_count": 125,
      "metadata": {
        "id": "lJEOQcx0vavH"
      },
      "outputs": [],
      "source": [
        "from collections.abc import Iterable\n",
        "\n",
        "class Outline:\n",
        "  def __init__(self, df):\n",
        "    self.df = df\n",
        "\n",
        "  ##\n",
        "  # Метод для перевода из многомерного списка в одномерный\n",
        "  # Возможно пригодится в будущем\n",
        "  ##\n",
        "  def flutten(self, l, new=None): # lst_arr\n",
        "\n",
        "    if new is None:\n",
        "      new = []\n",
        "      \n",
        "    for x in l:\n",
        "      if type(x) == int:\n",
        "        new.append(x)\n",
        "      else:\n",
        "        self.flutten(x, new)\n",
        "\n",
        "    # Обработка множеством и сортировка\n",
        "    new = list(set(new))\n",
        "    new.sort()\n",
        "\n",
        "    return new\n",
        "\n",
        "\n",
        "  # 1. На основе среднего и отклонения\n",
        "  def filter_outliers_by_mean_std(self, c): # cut_mean_and_std\n",
        "\n",
        "    outlier_id = []\n",
        "\n",
        "    mean = df[c].mean()\n",
        "    std =  df[c].std()\n",
        "    current_col_series = df[c].items()\n",
        "\n",
        "    cut_min = mean-std*3\n",
        "    cut_max = mean+std*3\n",
        "    \n",
        "    # index, value\n",
        "    for index, value in current_col_series:\n",
        "      if value <= cut_min or value >= cut_max:\n",
        "        outlier_id.append(index)\n",
        "        \n",
        "    return outlier_id\n",
        "  \n",
        "  \n",
        "  # 2. Кринерий Шовене\n",
        "  def filter_outliers_by_chauvenet(self, c): #chauvenet_corvair\n",
        "\n",
        "    outlier_id = []\n",
        "\n",
        "    mean = df[c].mean()\n",
        "    std = df[c].std() \n",
        "    n = df[c].count()\n",
        "\n",
        "    current_col_series = df[c].items()\n",
        "\n",
        "    for index, value in current_col_series:\n",
        "\n",
        "      err_abs, crit = (abs(value-mean))/std, 1/(2*n)\n",
        "\n",
        "      if math.erfc(err_abs) < crit:\n",
        "        outlier_id.append(index)\n",
        "\n",
        "    return outlier_id\n",
        "  \n",
        "  \n",
        "  # 3. С помощью квартилей\n",
        "  def filter_outliers_by_median(self, c): # qr_quart\n",
        "\n",
        "    df_clear = []\n",
        "    outlier_id = []\n",
        "\n",
        "    q1 = df[c].quantile(.25)\n",
        "    q3 = df[c].quantile(.75)\n",
        "\n",
        "    out_min = q1-1.5*(q3-q1)\n",
        "    out_max = q3+1.5*(q3-q1)\n",
        "\n",
        "    current_col_series = df[c].items()\n",
        "\n",
        "    # index, value\n",
        "    for index, value in current_col_series:\n",
        "      if value <= out_min or value >= out_max:\n",
        "        outlier_id.append(index)\n",
        "\n",
        "    return outlier_id\n",
        "  \n",
        "\n",
        "  # 4. Поиск выбросов по двум переменым\n",
        "  def filters_outliers_by_two_columns(self, c1, c2, cdf_clstr, eps_df): # DBSCAN_df\n",
        "\n",
        "    df_dbscan = df[[c1, c2]]\n",
        "\n",
        "    cluster = DBSCAN(min_samples=cdf_clstr, eps=eps_df).fit(df_dbscan)\n",
        "    df_dbscan['Labels'] = cluster.labels_\n",
        "\n",
        "    uniq, counts = np.unique(df_dbscan['Labels'], return_counts=True)\n",
        "    clus_counts = dict(zip(uniq, counts))\n",
        "    small_clust = [cluster1 for cluster1, count in clus_counts.items() if count <=2]\n",
        "    outlier_indices = self.df.index[np.isin(df_dbscan['Labels'], small_clust)].tolist()\n",
        "\n",
        "    return outlier_indices"
      ]
    },
    {
      "cell_type": "code",
      "execution_count": 126,
      "metadata": {
        "colab": {
          "base_uri": "https://localhost:8080/"
        },
        "id": "1EViTEon8Rkj",
        "outputId": "d1fa0b6f-a127-4d89-c2c8-9597251aaac6"
      },
      "outputs": [
        {
          "name": "stdout",
          "output_type": "stream",
          "text": [
            "1. Индексы выбросов: [109, 241, 365, 399, 449, 592, 732, 759]\n",
            "2. Индексы выбросов: [109, 123, 189, 190, 241, 274, 275, 278, 314, 365, 372, 399, 411, 423, 449, 475, 585, 592, 702, 725, 732, 759, 774, 780, 855]\n",
            "3. Индексы выбросов: [86, 109, 123, 132, 189, 190, 191, 215, 241, 274, 275, 277, 278, 314, 365, 372, 397, 399, 411, 423, 432, 449, 475, 479, 491, 543, 550, 585, 592, 648, 673, 702, 725, 732, 759, 774, 780, 825, 855, 880, 890, 901]\n"
          ]
        }
      ],
      "source": [
        "so = Outline(df)\n",
        "\n",
        "print(f'1. Индексы выбросов: {so.filter_outliers_by_mean_std(\"RestingBP\")}')\n",
        "print(f'2. Индексы выбросов: {so.filter_outliers_by_chauvenet(\"RestingBP\")}')\n",
        "print(f'3. Индексы выбросов: {so.filter_outliers_by_median(\"RestingBP\")}')"
      ]
    },
    {
      "cell_type": "code",
      "execution_count": 127,
      "metadata": {},
      "outputs": [
        {
          "name": "stdout",
          "output_type": "stream",
          "text": [
            "4. Индексы выбросов: [190, 274]\n"
          ]
        },
        {
          "name": "stderr",
          "output_type": "stream",
          "text": [
            "/tmp/ipykernel_22619/1344810259.py:98: SettingWithCopyWarning: \n",
            "A value is trying to be set on a copy of a slice from a DataFrame.\n",
            "Try using .loc[row_indexer,col_indexer] = value instead\n",
            "\n",
            "See the caveats in the documentation: https://pandas.pydata.org/pandas-docs/stable/user_guide/indexing.html#returning-a-view-versus-a-copy\n",
            "  df_dbscan['Labels'] = cluster.labels_\n"
          ]
        }
      ],
      "source": [
        "##\n",
        "#  filters_outliers_by_two_columns(c1, c2, clstr, eps_df)\n",
        "#  c1 - первый категориальный признак\n",
        "#  с2 - второй категориальный признак (он же и будет выводится)\n",
        "#  clstr - количество образцов\n",
        "#  eps_df - эпсилон\n",
        "##\n",
        "\n",
        "print(f'4. Индексы выбросов: {so.filters_outliers_by_two_columns(\"Age\", \"RestingBP\", 2, 5)}')"
      ]
    }
  ],
  "metadata": {
    "colab": {
      "include_colab_link": true,
      "provenance": []
    },
    "kernelspec": {
      "display_name": "Python 3",
      "name": "python3"
    },
    "language_info": {
      "codemirror_mode": {
        "name": "ipython",
        "version": 3
      },
      "file_extension": ".py",
      "mimetype": "text/x-python",
      "name": "python",
      "nbconvert_exporter": "python",
      "pygments_lexer": "ipython3",
      "version": "3.11.5"
    }
  },
  "nbformat": 4,
  "nbformat_minor": 0
}
